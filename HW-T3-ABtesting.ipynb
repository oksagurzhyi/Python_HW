{
 "cells": [
  {
   "cell_type": "code",
   "execution_count": 2,
   "metadata": {},
   "outputs": [],
   "source": [
    "import pandas as pd\n",
    "import numpy as np\n"
   ]
  },
  {
   "cell_type": "code",
   "execution_count": 3,
   "metadata": {},
   "outputs": [
    {
     "data": {
      "text/html": [
       "<div>\n",
       "<style scoped>\n",
       "    .dataframe tbody tr th:only-of-type {\n",
       "        vertical-align: middle;\n",
       "    }\n",
       "\n",
       "    .dataframe tbody tr th {\n",
       "        vertical-align: top;\n",
       "    }\n",
       "\n",
       "    .dataframe thead th {\n",
       "        text-align: right;\n",
       "    }\n",
       "</style>\n",
       "<table border=\"1\" class=\"dataframe\">\n",
       "  <thead>\n",
       "    <tr style=\"text-align: right;\">\n",
       "      <th></th>\n",
       "      <th>user_id</th>\n",
       "      <th>timestamp</th>\n",
       "      <th>test_group</th>\n",
       "      <th>conversion</th>\n",
       "    </tr>\n",
       "  </thead>\n",
       "  <tbody>\n",
       "    <tr>\n",
       "      <th>0</th>\n",
       "      <td>7f6833e6-1141-4f20-b4b2-f1e31019b1fd</td>\n",
       "      <td>2023-07-04 04:40:55.848109</td>\n",
       "      <td>a</td>\n",
       "      <td>0</td>\n",
       "    </tr>\n",
       "    <tr>\n",
       "      <th>1</th>\n",
       "      <td>e6a6e960-d3f3-4074-a516-ba1e609b211e</td>\n",
       "      <td>2023-07-06 00:26:45.486187</td>\n",
       "      <td>b</td>\n",
       "      <td>0</td>\n",
       "    </tr>\n",
       "    <tr>\n",
       "      <th>2</th>\n",
       "      <td>4d3fbfa5-6847-410a-bac2-477f01d5f400</td>\n",
       "      <td>2023-07-10 20:24:33.639464</td>\n",
       "      <td>b</td>\n",
       "      <td>0</td>\n",
       "    </tr>\n",
       "    <tr>\n",
       "      <th>3</th>\n",
       "      <td>361457d9-a044-48f7-981c-d67dc3861679</td>\n",
       "      <td>2023-07-20 07:04:49.957013</td>\n",
       "      <td>b</td>\n",
       "      <td>0</td>\n",
       "    </tr>\n",
       "    <tr>\n",
       "      <th>4</th>\n",
       "      <td>285cd63d-7d03-427f-a062-1fa2dd2e77d6</td>\n",
       "      <td>2023-07-19 23:27:50.116680</td>\n",
       "      <td>b</td>\n",
       "      <td>0</td>\n",
       "    </tr>\n",
       "  </tbody>\n",
       "</table>\n",
       "</div>"
      ],
      "text/plain": [
       "                                user_id                   timestamp  \\\n",
       "0  7f6833e6-1141-4f20-b4b2-f1e31019b1fd  2023-07-04 04:40:55.848109   \n",
       "1  e6a6e960-d3f3-4074-a516-ba1e609b211e  2023-07-06 00:26:45.486187   \n",
       "2  4d3fbfa5-6847-410a-bac2-477f01d5f400  2023-07-10 20:24:33.639464   \n",
       "3  361457d9-a044-48f7-981c-d67dc3861679  2023-07-20 07:04:49.957013   \n",
       "4  285cd63d-7d03-427f-a062-1fa2dd2e77d6  2023-07-19 23:27:50.116680   \n",
       "\n",
       "  test_group  conversion  \n",
       "0          a           0  \n",
       "1          b           0  \n",
       "2          b           0  \n",
       "3          b           0  \n",
       "4          b           0  "
      ]
     },
     "execution_count": 3,
     "metadata": {},
     "output_type": "execute_result"
    }
   ],
   "source": [
    "df = pd.read_csv(r\"C:\\Users\\gurzh\\Downloads\\ab_test_data.csv\")\n",
    "df.head()"
   ]
  },
  {
   "cell_type": "code",
   "execution_count": 4,
   "metadata": {},
   "outputs": [
    {
     "data": {
      "text/html": [
       "<div>\n",
       "<style scoped>\n",
       "    .dataframe tbody tr th:only-of-type {\n",
       "        vertical-align: middle;\n",
       "    }\n",
       "\n",
       "    .dataframe tbody tr th {\n",
       "        vertical-align: top;\n",
       "    }\n",
       "\n",
       "    .dataframe thead tr th {\n",
       "        text-align: left;\n",
       "    }\n",
       "\n",
       "    .dataframe thead tr:last-of-type th {\n",
       "        text-align: right;\n",
       "    }\n",
       "</style>\n",
       "<table border=\"1\" class=\"dataframe\">\n",
       "  <thead>\n",
       "    <tr>\n",
       "      <th></th>\n",
       "      <th colspan=\"8\" halign=\"left\">conversion</th>\n",
       "    </tr>\n",
       "    <tr>\n",
       "      <th></th>\n",
       "      <th>count</th>\n",
       "      <th>mean</th>\n",
       "      <th>std</th>\n",
       "      <th>min</th>\n",
       "      <th>25%</th>\n",
       "      <th>50%</th>\n",
       "      <th>75%</th>\n",
       "      <th>max</th>\n",
       "    </tr>\n",
       "    <tr>\n",
       "      <th>test_group</th>\n",
       "      <th></th>\n",
       "      <th></th>\n",
       "      <th></th>\n",
       "      <th></th>\n",
       "      <th></th>\n",
       "      <th></th>\n",
       "      <th></th>\n",
       "      <th></th>\n",
       "    </tr>\n",
       "  </thead>\n",
       "  <tbody>\n",
       "    <tr>\n",
       "      <th>a</th>\n",
       "      <td>10013.0</td>\n",
       "      <td>0.061021</td>\n",
       "      <td>0.239380</td>\n",
       "      <td>0.0</td>\n",
       "      <td>0.0</td>\n",
       "      <td>0.0</td>\n",
       "      <td>0.0</td>\n",
       "      <td>1.0</td>\n",
       "    </tr>\n",
       "    <tr>\n",
       "      <th>b</th>\n",
       "      <td>9985.0</td>\n",
       "      <td>0.089034</td>\n",
       "      <td>0.284806</td>\n",
       "      <td>0.0</td>\n",
       "      <td>0.0</td>\n",
       "      <td>0.0</td>\n",
       "      <td>0.0</td>\n",
       "      <td>1.0</td>\n",
       "    </tr>\n",
       "  </tbody>\n",
       "</table>\n",
       "</div>"
      ],
      "text/plain": [
       "           conversion                                             \n",
       "                count      mean       std  min  25%  50%  75%  max\n",
       "test_group                                                        \n",
       "a             10013.0  0.061021  0.239380  0.0  0.0  0.0  0.0  1.0\n",
       "b              9985.0  0.089034  0.284806  0.0  0.0  0.0  0.0  1.0"
      ]
     },
     "execution_count": 4,
     "metadata": {},
     "output_type": "execute_result"
    }
   ],
   "source": [
    "df.groupby('test_group').describe()"
   ]
  },
  {
   "cell_type": "code",
   "execution_count": null,
   "metadata": {},
   "outputs": [],
   "source": []
  },
  {
   "cell_type": "code",
   "execution_count": 36,
   "metadata": {},
   "outputs": [
    {
     "name": "stdout",
     "output_type": "stream",
     "text": [
      "Group A contains of 10013 users\n",
      "Group B contains of 9985 users\n"
     ]
    }
   ],
   "source": [
    "# Task 1.1\n",
    "\n",
    "a = df[df['test_group'] =='a'].value_counts()\n",
    "\n",
    "b = df[df['test_group'] =='b'].value_counts()\n",
    "print(f'Group A contains of {a.shape[0]} users')\n",
    "print(f'Group B contains of {b.shape[0]} users')"
   ]
  },
  {
   "cell_type": "code",
   "execution_count": 41,
   "metadata": {},
   "outputs": [
    {
     "name": "stdout",
     "output_type": "stream",
     "text": [
      "Conversion in Group A is  611\n",
      "Conversion in Group B is  889\n"
     ]
    }
   ],
   "source": [
    "# Task 1.2\n",
    "\n",
    "conv_a = df[(df['test_group'] =='a')  & (df['conversion'] ==1)].shape[0]\n",
    "\n",
    "conv_b = df[(df['test_group'] =='b')  & (df['conversion'] ==1)].shape[0]\n",
    "\n",
    "print(f'Conversion in Group A is  {conv_a}')\n",
    "print(f'Conversion in Group B is  {conv_b}')"
   ]
  },
  {
   "cell_type": "code",
   "execution_count": 45,
   "metadata": {},
   "outputs": [
    {
     "name": "stdout",
     "output_type": "stream",
     "text": [
      "Conversion Rate in Group A is 6.1\n",
      "Conversion Rate in Group B is 8.9\n"
     ]
    }
   ],
   "source": [
    "# Task 1.3\n",
    "\n",
    "CR_a = round((conv_a / a.shape[0] * 100),2)\n",
    "CR_b = round((conv_b / b.shape[0] * 100),2)\n",
    "\n",
    "print(f'Conversion Rate in Group A is {CR_a}')\n",
    "print(f'Conversion Rate in Group B is {CR_b}')"
   ]
  },
  {
   "cell_type": "code",
   "execution_count": 86,
   "metadata": {},
   "outputs": [
    {
     "name": "stdout",
     "output_type": "stream",
     "text": [
      "Test started at 2023-07-03 01:42:34.033708\n",
      "Test ended at 2023-07-25 01:41:19.152664\n",
      "Test lasts 21 days 23:58:45.118956 days = 22 days\n"
     ]
    }
   ],
   "source": [
    "# Task 1.4\n",
    "\n",
    "from datetime import datetime\n",
    "\n",
    "\n",
    "df['timestamp'] = pd.to_datetime(df['timestamp'], format='%Y.%m.%d')\n",
    "\n",
    "test_day_start = df['timestamp'].min()\n",
    "test_day_end = df['timestamp'].max()\n",
    "test_duration = test_day_end  - test_day_start\n",
    "print(f'Test started at {test_day_start}')\n",
    "print(f'Test ended at {test_day_end}')\n",
    "print(f'Test lasts {test_duration} days = 22 days')\n"
   ]
  },
  {
   "cell_type": "markdown",
   "metadata": {},
   "source": [
    "# Task 2\n",
    "We have categorical variables. It means that we can use here Chi-squer t-test. We know that conversion in group B is heigher then in group A. Also we know that condition of variances equal doesn't work. Is conversion rate in group B  statistically significant?\n",
    "\n",
    "Null Hypothesis(H0): Conversion in group B is not statistically significant.\n",
    "\n",
    "Alternative hypothesis(H1): Conversion in group B is greater than in group A."
   ]
  },
  {
   "cell_type": "code",
   "execution_count": 127,
   "metadata": {},
   "outputs": [
    {
     "name": "stdout",
     "output_type": "stream",
     "text": [
      "t-statistic: 56.14, p-value: 0.0\n",
      "The difference is statistically significant, Null Hypothesis is rejected.\n"
     ]
    }
   ],
   "source": [
    "from scipy import stats\n",
    "alpha = 0.05\n",
    "\n",
    "cross_tab = pd.crosstab(df['test_group'], df['conversion'])\n",
    "\n",
    "statistic, pvalue, dof, expected_values = stats.chi2_contingency(cross_tab)\n",
    "\n",
    "print(f't-statistic: {round(statistic, 2)}, p-value: {round(pvalue, 2)}')\n",
    "\n",
    "\n",
    "if pvalue < alpha:\n",
    "    print('The difference is statistically significant, Null Hypothesis is rejected.')\n",
    "else:\n",
    "    print('The difference is insignificant, Null Hypothesis cannot rejected.')"
   ]
  },
  {
   "cell_type": "markdown",
   "metadata": {},
   "source": [
    "Let's apply Permutation test to check whether we have the same result in case the Hypothesis 0 cannot be rejected. \n",
    "\n",
    "Null Hypothesis: There is no difference between groups. \n",
    "\n",
    "Alternative Hypothesis: There is a significant difference between groups.\n"
   ]
  },
  {
   "cell_type": "code",
   "execution_count": 120,
   "metadata": {},
   "outputs": [
    {
     "name": "stdout",
     "output_type": "stream",
     "text": [
      "statistic: -7.53, p-value: 0.0\n",
      "There is a significant difference between groups. Null Hypothesis is rejected.\n"
     ]
    }
   ],
   "source": [
    "def statistic(x, y):\n",
    "    return stats.ttest_ind(x, y).statistic\n",
    "\n",
    "alpha = 0.05\n",
    "\n",
    "x = df[df['test_group'] == 'a']['conversion']\n",
    "y = df[df['test_group'] == 'b']['conversion']\n",
    "\n",
    "results = stats.permutation_test((x,y), statistic, n_resamples=1000)\n",
    "\n",
    "print(f'statistic: {round(results.statistic, 2)}, p-value: {round(results.pvalue, 2)}')\n",
    "\n",
    "if results.pvalue < alpha:\n",
    "    print('There is a significant difference between groups. Null Hypothesis is rejected.')\n",
    "else:\n",
    "    print('There is no difference between groups. Null Hypothesis cannot rejected.')"
   ]
  },
  {
   "cell_type": "code",
   "execution_count": 100,
   "metadata": {},
   "outputs": [],
   "source": [
    "#Task 3\n",
    "\n",
    "import matplotlib.pyplot as plt\n",
    "import seaborn as sns"
   ]
  },
  {
   "cell_type": "code",
   "execution_count": 102,
   "metadata": {},
   "outputs": [
    {
     "data": {
      "image/png": "[encoded data removed]",
      "text/plain": [
       "<Figure size 800x600 with 1 Axes>"
      ]
     },
     "metadata": {},
     "output_type": "display_data"
    }
   ],
   "source": [
    "plt.figure(figsize=(8, 6))\n",
    "sns.barplot(x=df['test_group'],\n",
    "            y=df['conversion'],\n",
    "            errorbar=('ci', 95))\n",
    "plt.title('A/B test Results')\n",
    "plt.xlabel('Group')\n",
    "plt.ylabel('Mean')\n",
    "plt.show()\n"
   ]
  },
  {
   "cell_type": "markdown",
   "metadata": {},
   "source": [
    "Task 4\n",
    "\n",
    "Conclusions\n",
    "\n",
    "In this particular tet we are testing alternative screen with new design. The question is \"Is the conversion rate in group B (control group) statistically significant?\"\n",
    "\n",
    "Problem we are solving: Should we implement alternative new design for enhancing conversion rate?  \n",
    "\n",
    "We are testing Hypothesis: there is no statistically significant difference between conversion in group B and group A.\n",
    "\n",
    "Our test has shown that there is significant difference in conversion between control group B and group A.\n",
    "That means that we should implement our new alternative screen design. "
   ]
  },
  {
   "cell_type": "code",
   "execution_count": null,
   "metadata": {},
   "outputs": [],
   "source": []
  },
  {
   "cell_type": "code",
   "execution_count": 108,
   "metadata": {},
   "outputs": [
    {
     "data": {
      "text/html": [
       "<div>\n",
       "<style scoped>\n",
       "    .dataframe tbody tr th:only-of-type {\n",
       "        vertical-align: middle;\n",
       "    }\n",
       "\n",
       "    .dataframe tbody tr th {\n",
       "        vertical-align: top;\n",
       "    }\n",
       "\n",
       "    .dataframe thead th {\n",
       "        text-align: right;\n",
       "    }\n",
       "</style>\n",
       "<table border=\"1\" class=\"dataframe\">\n",
       "  <thead>\n",
       "    <tr style=\"text-align: right;\">\n",
       "      <th></th>\n",
       "      <th>user_id</th>\n",
       "      <th>timestamp</th>\n",
       "      <th>test_group</th>\n",
       "      <th>conversion</th>\n",
       "    </tr>\n",
       "  </thead>\n",
       "  <tbody>\n",
       "    <tr>\n",
       "      <th>3065</th>\n",
       "      <td>46c4595c-7381-4735-9557-eefe48f16348</td>\n",
       "      <td>2023-07-03 01:42:34.033708</td>\n",
       "      <td>b</td>\n",
       "      <td>0</td>\n",
       "    </tr>\n",
       "    <tr>\n",
       "      <th>6667</th>\n",
       "      <td>974b78bf-8483-4f6a-8a8b-95f9bce0226d</td>\n",
       "      <td>2023-07-03 01:46:14.688840</td>\n",
       "      <td>a</td>\n",
       "      <td>0</td>\n",
       "    </tr>\n",
       "    <tr>\n",
       "      <th>15979</th>\n",
       "      <td>5f142100-99a4-418b-aa9d-eea849efa926</td>\n",
       "      <td>2023-07-03 01:49:43.283638</td>\n",
       "      <td>b</td>\n",
       "      <td>0</td>\n",
       "    </tr>\n",
       "    <tr>\n",
       "      <th>714</th>\n",
       "      <td>f685ef7f-f5d3-4a7c-b4f2-706c8f5f128f</td>\n",
       "      <td>2023-07-03 01:49:54.067114</td>\n",
       "      <td>a</td>\n",
       "      <td>0</td>\n",
       "    </tr>\n",
       "    <tr>\n",
       "      <th>2391</th>\n",
       "      <td>706d58f2-2bce-4137-8aa8-20f32db23e45</td>\n",
       "      <td>2023-07-03 01:52:14.910970</td>\n",
       "      <td>a</td>\n",
       "      <td>0</td>\n",
       "    </tr>\n",
       "  </tbody>\n",
       "</table>\n",
       "</div>"
      ],
      "text/plain": [
       "                                    user_id                  timestamp  \\\n",
       "3065   46c4595c-7381-4735-9557-eefe48f16348 2023-07-03 01:42:34.033708   \n",
       "6667   974b78bf-8483-4f6a-8a8b-95f9bce0226d 2023-07-03 01:46:14.688840   \n",
       "15979  5f142100-99a4-418b-aa9d-eea849efa926 2023-07-03 01:49:43.283638   \n",
       "714    f685ef7f-f5d3-4a7c-b4f2-706c8f5f128f 2023-07-03 01:49:54.067114   \n",
       "2391   706d58f2-2bce-4137-8aa8-20f32db23e45 2023-07-03 01:52:14.910970   \n",
       "\n",
       "      test_group  conversion  \n",
       "3065           b           0  \n",
       "6667           a           0  \n",
       "15979          b           0  \n",
       "714            a           0  \n",
       "2391           a           0  "
      ]
     },
     "execution_count": 108,
     "metadata": {},
     "output_type": "execute_result"
    }
   ],
   "source": [
    "# Bonus Task\n",
    "df.sort_values('timestamp', ascending=True, inplace=True)\n",
    "df.head()"
   ]
  },
  {
   "cell_type": "code",
   "execution_count": 117,
   "metadata": {},
   "outputs": [
    {
     "data": {
      "text/html": [
       "<div>\n",
       "<style scoped>\n",
       "    .dataframe tbody tr th:only-of-type {\n",
       "        vertical-align: middle;\n",
       "    }\n",
       "\n",
       "    .dataframe tbody tr th {\n",
       "        vertical-align: top;\n",
       "    }\n",
       "\n",
       "    .dataframe thead th {\n",
       "        text-align: right;\n",
       "    }\n",
       "</style>\n",
       "<table border=\"1\" class=\"dataframe\">\n",
       "  <thead>\n",
       "    <tr style=\"text-align: right;\">\n",
       "      <th></th>\n",
       "      <th>timestamp</th>\n",
       "      <th>cum_mean</th>\n",
       "    </tr>\n",
       "  </thead>\n",
       "  <tbody>\n",
       "    <tr>\n",
       "      <th>0</th>\n",
       "      <td>2023-07-03 01:42:34.033708</td>\n",
       "      <td>0.0</td>\n",
       "    </tr>\n",
       "    <tr>\n",
       "      <th>1</th>\n",
       "      <td>2023-07-03 01:49:43.283638</td>\n",
       "      <td>0.0</td>\n",
       "    </tr>\n",
       "    <tr>\n",
       "      <th>2</th>\n",
       "      <td>2023-07-03 01:52:30.884793</td>\n",
       "      <td>0.0</td>\n",
       "    </tr>\n",
       "    <tr>\n",
       "      <th>3</th>\n",
       "      <td>2023-07-03 01:58:41.962846</td>\n",
       "      <td>0.0</td>\n",
       "    </tr>\n",
       "    <tr>\n",
       "      <th>4</th>\n",
       "      <td>2023-07-03 01:59:00.602176</td>\n",
       "      <td>0.0</td>\n",
       "    </tr>\n",
       "  </tbody>\n",
       "</table>\n",
       "</div>"
      ],
      "text/plain": [
       "                   timestamp  cum_mean\n",
       "0 2023-07-03 01:42:34.033708       0.0\n",
       "1 2023-07-03 01:49:43.283638       0.0\n",
       "2 2023-07-03 01:52:30.884793       0.0\n",
       "3 2023-07-03 01:58:41.962846       0.0\n",
       "4 2023-07-03 01:59:00.602176       0.0"
      ]
     },
     "execution_count": 117,
     "metadata": {},
     "output_type": "execute_result"
    }
   ],
   "source": [
    "group_a = df[df['test_group'] == 'a']\n",
    "\n",
    "\n",
    "cum_metric_a = group_a['conversion'].expanding().mean().reset_index(drop=True)\n",
    "\n",
    "\n",
    "cum_metric_a = pd.DataFrame({\n",
    "    'timestamp': group_a['timestamp'].reset_index(drop=True),\n",
    "    'cum_mean': cum_metric_a\n",
    "})\n",
    "\n",
    "group_b = df[df['test_group'] == 'b']\n",
    "\n",
    "\n",
    "cum_metric_b = group_b['conversion'].expanding().mean().reset_index(drop=True)\n",
    "\n",
    "cum_metric_b = pd.DataFrame({\n",
    "    'timestamp': group_b['timestamp'].reset_index(drop=True),\n",
    "    'cum_mean': cum_metric_b\n",
    "})\n",
    "cum_metric_b.head()\n"
   ]
  },
  {
   "cell_type": "code",
   "execution_count": 115,
   "metadata": {},
   "outputs": [
    {
     "data": {
      "image/png": "[encoded data removed]",
      "text/plain": [
       "<Figure size 1000x600 with 1 Axes>"
      ]
     },
     "metadata": {},
     "output_type": "display_data"
    }
   ],
   "source": [
    "\n",
    "plt.figure(figsize=(10, 6))\n",
    "plt.plot(cum_metric_a['timestamp'], cum_metric_a['cum_mean'] , label='A')\n",
    "plt.plot(cum_metric_b['timestamp'], cum_metric_b['cum_mean'] , label='B')\n",
    "plt.title(\"Cumulative Сonversion Rate Comparison\")\n",
    "plt.xlabel('Time')\n",
    "plt.ylabel(\"Cumulative conversion Rate\")\n",
    "plt.xticks(rotation=45)\n",
    "plt.legend()\n",
    "plt.show()"
   ]
  },
  {
   "cell_type": "code",
   "execution_count": 10,
   "metadata": {},
   "outputs": [
    {
     "data": {
      "text/html": [
       "<div>\n",
       "<style scoped>\n",
       "    .dataframe tbody tr th:only-of-type {\n",
       "        vertical-align: middle;\n",
       "    }\n",
       "\n",
       "    .dataframe tbody tr th {\n",
       "        vertical-align: top;\n",
       "    }\n",
       "\n",
       "    .dataframe thead th {\n",
       "        text-align: right;\n",
       "    }\n",
       "</style>\n",
       "<table border=\"1\" class=\"dataframe\">\n",
       "  <thead>\n",
       "    <tr style=\"text-align: right;\">\n",
       "      <th></th>\n",
       "      <th>user_id</th>\n",
       "      <th>timestamp</th>\n",
       "      <th>test_group</th>\n",
       "      <th>conversion</th>\n",
       "    </tr>\n",
       "  </thead>\n",
       "  <tbody>\n",
       "    <tr>\n",
       "      <th>0</th>\n",
       "      <td>7f6833e6-1141-4f20-b4b2-f1e31019b1fd</td>\n",
       "      <td>2023-07-04 04:40:55.848109</td>\n",
       "      <td>a</td>\n",
       "      <td>0</td>\n",
       "    </tr>\n",
       "    <tr>\n",
       "      <th>7</th>\n",
       "      <td>9b1f084d-8a7f-4526-b859-4935ca99482c</td>\n",
       "      <td>2023-07-17 12:11:21.902593</td>\n",
       "      <td>a</td>\n",
       "      <td>0</td>\n",
       "    </tr>\n",
       "    <tr>\n",
       "      <th>9</th>\n",
       "      <td>b856113a-75d4-4911-894c-4d4c75f37c34</td>\n",
       "      <td>2023-07-22 19:38:24.460128</td>\n",
       "      <td>a</td>\n",
       "      <td>0</td>\n",
       "    </tr>\n",
       "    <tr>\n",
       "      <th>11</th>\n",
       "      <td>3ebabcc4-eb90-48c0-a527-8beaad80a81a</td>\n",
       "      <td>2023-07-08 10:59:38.914826</td>\n",
       "      <td>a</td>\n",
       "      <td>0</td>\n",
       "    </tr>\n",
       "    <tr>\n",
       "      <th>14</th>\n",
       "      <td>b22928dd-1413-4c50-a239-45378cd4f7b3</td>\n",
       "      <td>2023-07-07 19:35:26.669172</td>\n",
       "      <td>a</td>\n",
       "      <td>1</td>\n",
       "    </tr>\n",
       "    <tr>\n",
       "      <th>...</th>\n",
       "      <td>...</td>\n",
       "      <td>...</td>\n",
       "      <td>...</td>\n",
       "      <td>...</td>\n",
       "    </tr>\n",
       "    <tr>\n",
       "      <th>19989</th>\n",
       "      <td>639e6936-13fa-4adc-ad63-3fefb1e2c9ec</td>\n",
       "      <td>2023-07-20 17:06:44.474891</td>\n",
       "      <td>a</td>\n",
       "      <td>0</td>\n",
       "    </tr>\n",
       "    <tr>\n",
       "      <th>19990</th>\n",
       "      <td>cda7c514-6f0c-47d7-b145-09de587781da</td>\n",
       "      <td>2023-07-09 08:40:48.874207</td>\n",
       "      <td>a</td>\n",
       "      <td>0</td>\n",
       "    </tr>\n",
       "    <tr>\n",
       "      <th>19991</th>\n",
       "      <td>7568259b-2d61-4b8e-9464-ae344d940dbc</td>\n",
       "      <td>2023-07-15 02:54:16.721869</td>\n",
       "      <td>a</td>\n",
       "      <td>0</td>\n",
       "    </tr>\n",
       "    <tr>\n",
       "      <th>19992</th>\n",
       "      <td>4b7b07c4-5221-4b93-ba0d-b3ba55b12c7f</td>\n",
       "      <td>2023-07-04 01:36:10.945000</td>\n",
       "      <td>a</td>\n",
       "      <td>0</td>\n",
       "    </tr>\n",
       "    <tr>\n",
       "      <th>19994</th>\n",
       "      <td>ac5600f2-4d16-4503-b115-f1a96728b6d1</td>\n",
       "      <td>2023-07-03 04:20:48.572143</td>\n",
       "      <td>a</td>\n",
       "      <td>0</td>\n",
       "    </tr>\n",
       "  </tbody>\n",
       "</table>\n",
       "<p>10013 rows × 4 columns</p>\n",
       "</div>"
      ],
      "text/plain": [
       "                                    user_id                   timestamp  \\\n",
       "0      7f6833e6-1141-4f20-b4b2-f1e31019b1fd  2023-07-04 04:40:55.848109   \n",
       "7      9b1f084d-8a7f-4526-b859-4935ca99482c  2023-07-17 12:11:21.902593   \n",
       "9      b856113a-75d4-4911-894c-4d4c75f37c34  2023-07-22 19:38:24.460128   \n",
       "11     3ebabcc4-eb90-48c0-a527-8beaad80a81a  2023-07-08 10:59:38.914826   \n",
       "14     b22928dd-1413-4c50-a239-45378cd4f7b3  2023-07-07 19:35:26.669172   \n",
       "...                                     ...                         ...   \n",
       "19989  639e6936-13fa-4adc-ad63-3fefb1e2c9ec  2023-07-20 17:06:44.474891   \n",
       "19990  cda7c514-6f0c-47d7-b145-09de587781da  2023-07-09 08:40:48.874207   \n",
       "19991  7568259b-2d61-4b8e-9464-ae344d940dbc  2023-07-15 02:54:16.721869   \n",
       "19992  4b7b07c4-5221-4b93-ba0d-b3ba55b12c7f  2023-07-04 01:36:10.945000   \n",
       "19994  ac5600f2-4d16-4503-b115-f1a96728b6d1  2023-07-03 04:20:48.572143   \n",
       "\n",
       "      test_group  conversion  \n",
       "0              a           0  \n",
       "7              a           0  \n",
       "9              a           0  \n",
       "11             a           0  \n",
       "14             a           1  \n",
       "...          ...         ...  \n",
       "19989          a           0  \n",
       "19990          a           0  \n",
       "19991          a           0  \n",
       "19992          a           0  \n",
       "19994          a           0  \n",
       "\n",
       "[10013 rows x 4 columns]"
      ]
     },
     "execution_count": 10,
     "metadata": {},
     "output_type": "execute_result"
    }
   ],
   "source": [
    "df_a = df.query('test_group == \"a\"')\n",
    "df_a"
   ]
  },
  {
   "cell_type": "code",
   "execution_count": null,
   "metadata": {},
   "outputs": [],
   "source": []
  },
  {
   "cell_type": "code",
   "execution_count": null,
   "metadata": {},
   "outputs": [],
   "source": []
  },
  {
   "cell_type": "code",
   "execution_count": null,
   "metadata": {},
   "outputs": [],
   "source": []
  }
 ],
 "metadata": {
  "kernelspec": {
   "display_name": "Python 3",
   "language": "python",
   "name": "python3"
  },
  "language_info": {
   "codemirror_mode": {
    "name": "ipython",
    "version": 3
   },
   "file_extension": ".py",
   "mimetype": "text/x-python",
   "name": "python",
   "nbconvert_exporter": "python",
   "pygments_lexer": "ipython3",
   "version": "3.12.3"
  }
 },
 "nbformat": 4,
 "nbformat_minor": 2
}
