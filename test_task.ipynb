{
 "cells": [
  {
   "cell_type": "code",
   "execution_count": 1,
   "metadata": {},
   "outputs": [],
   "source": [
    "import numpy as np\n",
    "import pandas as pd"
   ]
  },
  {
   "cell_type": "code",
   "execution_count": 2,
   "metadata": {},
   "outputs": [
    {
     "data": {
      "text/plain": [
       "3125"
      ]
     },
     "execution_count": 2,
     "metadata": {},
     "output_type": "execute_result"
    }
   ],
   "source": [
    "# Завдання 1. Створити функцію, яка приймає два аргументи (число та ступінь), та повертає результат підняття числа до вказаної ступені\n",
    "\n",
    "def pow_number(number, pow_n):\n",
    "    return pow(number, pow_n) \n",
    "\n",
    "\n",
    "pow_number(5, 5)"
   ]
  },
  {
   "cell_type": "code",
   "execution_count": 5,
   "metadata": {},
   "outputs": [
    {
     "name": "stdout",
     "output_type": "stream",
     "text": [
      "[2, 4, 6, 8, 10, 12, 14, 16, 18]\n"
     ]
    }
   ],
   "source": [
    "# Завдання 2. Написати програму, яка виводить всі парні числа від 1 до 20.\n",
    "\n",
    "even_numbers = []\n",
    "\n",
    "for i in range(1, 21):\n",
    "    if i%2 == 0:\n",
    "        even_numbers.append(i)\n",
    "print(even_numbers)"
   ]
  },
  {
   "cell_type": "code",
   "execution_count": 7,
   "metadata": {},
   "outputs": [
    {
     "name": "stdout",
     "output_type": "stream",
     "text": [
      "[10, 9, 8, 7, 6, 5, 4, 3, 2, 1]\n"
     ]
    }
   ],
   "source": [
    "# Завдання 3. Створити список чисел від 1 до 10, та вивести його зворотньо.\n",
    "\n",
    "new_arr = list(range(1, 11))\n",
    "new_arr.reverse()\n",
    "print(new_arr)"
   ]
  },
  {
   "cell_type": "code",
   "execution_count": 14,
   "metadata": {},
   "outputs": [
    {
     "name": "stdout",
     "output_type": "stream",
     "text": [
      "7\n"
     ]
    }
   ],
   "source": [
    "# Завдання 4. Написати функцію, яка приймає рядок та повертає кількість унікальних символів у цьому рядку:\n",
    "\n",
    "def text_length(text):\n",
    "    new_list = list(text)\n",
    "    new_set = set(new_list)\n",
    "    print(len(new_set))\n",
    "\n",
    "\n",
    "text_length('dsjdfkljsfjsdfjsdfjksjksdfj sdfjskfjksjfskjfskjdf')\n"
   ]
  },
  {
   "cell_type": "code",
   "execution_count": 15,
   "metadata": {},
   "outputs": [
    {
     "name": "stdout",
     "output_type": "stream",
     "text": [
      "[500, 300, 10, 'user', 1]\n"
     ]
    }
   ],
   "source": [
    "# Завдання 5. Перевернути массив використовуючи зворотню індексацію.\n",
    "\n",
    "array = [1, 'user', 10, 300, 500]\n",
    "\n",
    "rev_array = array[::-1]\n",
    "\n",
    "print(rev_array)"
   ]
  },
  {
   "cell_type": "code",
   "execution_count": 20,
   "metadata": {},
   "outputs": [
    {
     "name": "stdout",
     "output_type": "stream",
     "text": [
      "[{'name': 'Don Quixote', 'author': {'Miguel de Cervantes Saavedra', 'Tobias George Smollett'}, 'year': 2018}, {'name': 'Jane Eyre', 'author': 'Charlotte Brontë ', 'year': 1991}]\n"
     ]
    }
   ],
   "source": [
    "# Завдання 6. Створити словник, який містить дані про книгу (назва, автор, рік видання) та вивести його вміст\n",
    "\n",
    "book_inf = [{\n",
    "    \"name\": \"Don Quixote\",\n",
    "    'author': {'Miguel de Cervantes Saavedra', 'Tobias George Smollett'}, \n",
    "    'year': 2018},\n",
    "    {\"name\": 'Jane Eyre', \n",
    "    'author': 'Charlotte Brontë ', \n",
    "    'year': 1991\n",
    "    }]\n",
    "print(book_inf)"
   ]
  },
  {
   "cell_type": "code",
   "execution_count": 34,
   "metadata": {},
   "outputs": [
    {
     "data": {
      "text/plain": [
       "15766"
      ]
     },
     "execution_count": 34,
     "metadata": {},
     "output_type": "execute_result"
    }
   ],
   "source": [
    "#  Завдання 7. Написати програму, яка обчислює суму перших 100 натуральних чисел\n",
    "\n",
    "import random\n",
    "\n",
    "\n",
    "random_num = [random.randint(-300, 300) for _ in range(300)]  \n",
    "\n",
    "\n",
    "def sum_hole_numbers(random_num):\n",
    "    hole_num = []\n",
    "    for i in random_num:\n",
    "        if i > 0:\n",
    "            hole_num.append(i)\n",
    "    hole_num = hole_num[:100]\n",
    "\n",
    "    total_sum = 0\n",
    "    for i in hole_num:\n",
    "        total_sum+=i\n",
    "    return total_sum\n",
    "    \n",
    "\n",
    "\n",
    "sum_hole_numbers(random_num)\n",
    "\n",
    "\n",
    "#print(random_num)"
   ]
  },
  {
   "cell_type": "code",
   "execution_count": null,
   "metadata": {},
   "outputs": [],
   "source": [
    "# ВИКОНАТИ ЗАВДАННЯ PANDAS"
   ]
  },
  {
   "cell_type": "code",
   "execution_count": null,
   "metadata": {},
   "outputs": [],
   "source": [
    "# Завдання 1. Створити DataFrame з двох списків (назва книги та автор) та вивести перші 5 рядків:"
   ]
  },
  {
   "cell_type": "code",
   "execution_count": 40,
   "metadata": {},
   "outputs": [
    {
     "name": "stdout",
     "output_type": "stream",
     "text": [
      "[['Book5', 'Author5'], ['Book6', 'Author6'], ['Book7', 'Author7'], ['Book8', 'Author8'], ['Book1', 'Author1'], ['Book2', 'Author2'], ['Book3', 'Author3'], ['Book4', 'Author4']]\n"
     ]
    },
    {
     "data": {
      "text/html": [
       "<div>\n",
       "<style scoped>\n",
       "    .dataframe tbody tr th:only-of-type {\n",
       "        vertical-align: middle;\n",
       "    }\n",
       "\n",
       "    .dataframe tbody tr th {\n",
       "        vertical-align: top;\n",
       "    }\n",
       "\n",
       "    .dataframe thead th {\n",
       "        text-align: right;\n",
       "    }\n",
       "</style>\n",
       "<table border=\"1\" class=\"dataframe\">\n",
       "  <thead>\n",
       "    <tr style=\"text-align: right;\">\n",
       "      <th></th>\n",
       "      <th>Book</th>\n",
       "      <th>Author_name</th>\n",
       "    </tr>\n",
       "  </thead>\n",
       "  <tbody>\n",
       "    <tr>\n",
       "      <th>0</th>\n",
       "      <td>Book5</td>\n",
       "      <td>Author5</td>\n",
       "    </tr>\n",
       "    <tr>\n",
       "      <th>1</th>\n",
       "      <td>Book6</td>\n",
       "      <td>Author6</td>\n",
       "    </tr>\n",
       "    <tr>\n",
       "      <th>2</th>\n",
       "      <td>Book7</td>\n",
       "      <td>Author7</td>\n",
       "    </tr>\n",
       "    <tr>\n",
       "      <th>3</th>\n",
       "      <td>Book8</td>\n",
       "      <td>Author8</td>\n",
       "    </tr>\n",
       "    <tr>\n",
       "      <th>4</th>\n",
       "      <td>Book1</td>\n",
       "      <td>Author1</td>\n",
       "    </tr>\n",
       "  </tbody>\n",
       "</table>\n",
       "</div>"
      ],
      "text/plain": [
       "    Book Author_name\n",
       "0  Book5     Author5\n",
       "1  Book6     Author6\n",
       "2  Book7     Author7\n",
       "3  Book8     Author8\n",
       "4  Book1     Author1"
      ]
     },
     "execution_count": 40,
     "metadata": {},
     "output_type": "execute_result"
    }
   ],
   "source": [
    "list_1 = [['Book1', 'Author1'], ['Book2', 'Author2'], ['Book3', 'Author3'], ['Book4', 'Author4']]\n",
    "list_2 = [['Book5', 'Author5'], ['Book6', 'Author6'], ['Book7', 'Author7'], ['Book8', 'Author8']]\n",
    "list_2.extend(list_1)\n",
    "print(list_2)\n",
    "\n",
    "df = pd.DataFrame(list_2, columns=['Book', 'Author_name'])\n",
    "df.head()"
   ]
  },
  {
   "cell_type": "code",
   "execution_count": null,
   "metadata": {},
   "outputs": [],
   "source": [
    "# Завдання 2. Завантажити даних з CSV-файлу та вивести статистику про числові колонки"
   ]
  },
  {
   "cell_type": "code",
   "execution_count": 41,
   "metadata": {},
   "outputs": [
    {
     "data": {
      "text/html": [
       "<div>\n",
       "<style scoped>\n",
       "    .dataframe tbody tr th:only-of-type {\n",
       "        vertical-align: middle;\n",
       "    }\n",
       "\n",
       "    .dataframe tbody tr th {\n",
       "        vertical-align: top;\n",
       "    }\n",
       "\n",
       "    .dataframe thead th {\n",
       "        text-align: right;\n",
       "    }\n",
       "</style>\n",
       "<table border=\"1\" class=\"dataframe\">\n",
       "  <thead>\n",
       "    <tr style=\"text-align: right;\">\n",
       "      <th></th>\n",
       "      <th>EmployeeID</th>\n",
       "      <th>Days Present</th>\n",
       "      <th>Task Completion Rates</th>\n",
       "      <th>Interpersonal Skills Rating</th>\n",
       "      <th>Decision-Making Skills Rating</th>\n",
       "      <th>Sales Revenue Generated</th>\n",
       "    </tr>\n",
       "  </thead>\n",
       "  <tbody>\n",
       "    <tr>\n",
       "      <th>count</th>\n",
       "      <td>31.000000</td>\n",
       "      <td>31.000000</td>\n",
       "      <td>31.000000</td>\n",
       "      <td>31.000000</td>\n",
       "      <td>31.000000</td>\n",
       "      <td>31.000000</td>\n",
       "    </tr>\n",
       "    <tr>\n",
       "      <th>mean</th>\n",
       "      <td>16.000000</td>\n",
       "      <td>21.322581</td>\n",
       "      <td>77.258065</td>\n",
       "      <td>6.967742</td>\n",
       "      <td>6.354839</td>\n",
       "      <td>75115.741935</td>\n",
       "    </tr>\n",
       "    <tr>\n",
       "      <th>std</th>\n",
       "      <td>9.092121</td>\n",
       "      <td>2.286002</td>\n",
       "      <td>9.204954</td>\n",
       "      <td>1.224306</td>\n",
       "      <td>1.330373</td>\n",
       "      <td>14562.137641</td>\n",
       "    </tr>\n",
       "    <tr>\n",
       "      <th>min</th>\n",
       "      <td>1.000000</td>\n",
       "      <td>18.000000</td>\n",
       "      <td>60.000000</td>\n",
       "      <td>5.000000</td>\n",
       "      <td>4.000000</td>\n",
       "      <td>51638.000000</td>\n",
       "    </tr>\n",
       "    <tr>\n",
       "      <th>25%</th>\n",
       "      <td>8.500000</td>\n",
       "      <td>19.500000</td>\n",
       "      <td>70.000000</td>\n",
       "      <td>6.000000</td>\n",
       "      <td>5.500000</td>\n",
       "      <td>63065.000000</td>\n",
       "    </tr>\n",
       "    <tr>\n",
       "      <th>50%</th>\n",
       "      <td>16.000000</td>\n",
       "      <td>21.000000</td>\n",
       "      <td>80.000000</td>\n",
       "      <td>7.000000</td>\n",
       "      <td>7.000000</td>\n",
       "      <td>75795.000000</td>\n",
       "    </tr>\n",
       "    <tr>\n",
       "      <th>75%</th>\n",
       "      <td>23.500000</td>\n",
       "      <td>23.000000</td>\n",
       "      <td>85.000000</td>\n",
       "      <td>8.000000</td>\n",
       "      <td>7.000000</td>\n",
       "      <td>86373.000000</td>\n",
       "    </tr>\n",
       "    <tr>\n",
       "      <th>max</th>\n",
       "      <td>31.000000</td>\n",
       "      <td>25.000000</td>\n",
       "      <td>95.000000</td>\n",
       "      <td>9.000000</td>\n",
       "      <td>8.000000</td>\n",
       "      <td>97797.000000</td>\n",
       "    </tr>\n",
       "  </tbody>\n",
       "</table>\n",
       "</div>"
      ],
      "text/plain": [
       "       EmployeeID  Days Present  Task Completion Rates  \\\n",
       "count   31.000000     31.000000              31.000000   \n",
       "mean    16.000000     21.322581              77.258065   \n",
       "std      9.092121      2.286002               9.204954   \n",
       "min      1.000000     18.000000              60.000000   \n",
       "25%      8.500000     19.500000              70.000000   \n",
       "50%     16.000000     21.000000              80.000000   \n",
       "75%     23.500000     23.000000              85.000000   \n",
       "max     31.000000     25.000000              95.000000   \n",
       "\n",
       "       Interpersonal Skills Rating  Decision-Making Skills Rating  \\\n",
       "count                    31.000000                      31.000000   \n",
       "mean                      6.967742                       6.354839   \n",
       "std                       1.224306                       1.330373   \n",
       "min                       5.000000                       4.000000   \n",
       "25%                       6.000000                       5.500000   \n",
       "50%                       7.000000                       7.000000   \n",
       "75%                       8.000000                       7.000000   \n",
       "max                       9.000000                       8.000000   \n",
       "\n",
       "       Sales Revenue Generated  \n",
       "count                31.000000  \n",
       "mean              75115.741935  \n",
       "std               14562.137641  \n",
       "min               51638.000000  \n",
       "25%               63065.000000  \n",
       "50%               75795.000000  \n",
       "75%               86373.000000  \n",
       "max               97797.000000  "
      ]
     },
     "execution_count": 41,
     "metadata": {},
     "output_type": "execute_result"
    }
   ],
   "source": [
    "new_df = pd.read_csv(r\"C:\\Users\\gurzh\\Downloads\\practice_data.csv\")\n",
    "new_df.describe()"
   ]
  },
  {
   "cell_type": "code",
   "execution_count": null,
   "metadata": {},
   "outputs": [],
   "source": [
    "# Завдання 3. Вибрати лише рядки, де значення у колонці \"Оцінка\" більше 4\n",
    "\n",
    "new_df[new_df['Оцінка']>4]"
   ]
  },
  {
   "cell_type": "code",
   "execution_count": null,
   "metadata": {},
   "outputs": [],
   "source": [
    "#  Завдання 4. Об'єднати два DataFrames за спільними колонками та вивести результат\n",
    "\n",
    "new_df = df.merge(df_customer, on='User_id')\n",
    "new_df"
   ]
  },
  {
   "cell_type": "code",
   "execution_count": null,
   "metadata": {},
   "outputs": [],
   "source": [
    "# Завдання 5. Використати функцію apply для створення нового стовпця на основі умови - У вас є таблиця з оцінками студентів, і вам потрібно створити новий стовпець \"Grade\" на основі наступних критеріїв: A (90 і вище), B (80-89), C (менше 80). \n",
    "\n",
    "df['Grade'] = df['Score'].apply(lambda x: 'C' if (x<80) else 'B' if ((x>=80) & (x<=89)) else  'A')"
   ]
  },
  {
   "cell_type": "code",
   "execution_count": 35,
   "metadata": {},
   "outputs": [
    {
     "name": "stdout",
     "output_type": "stream",
     "text": [
      "   Score\n",
      "0     85\n",
      "1     92\n",
      "2     78\n",
      "3     95\n",
      "4     88\n"
     ]
    }
   ],
   "source": [
    "\n",
    "data = {'Score': [85, 92, 78, 95, 88]}\n",
    "df = pd.DataFrame(data)\n",
    "\n",
    "print(df)"
   ]
  },
  {
   "cell_type": "markdown",
   "metadata": {},
   "source": [
    "A/B test\n",
    "\n",
    "Завдання 1: Спланувати проведення A/B тесту\t\t\t\t\t\n",
    "1.\tСформулювати продуктову гіпотезу та мету тесту\t\t\t\t\n",
    "2.\tОбрати цільову та допоміжні метрики\t\t\t\t\n",
    "3.\tРозрахувати необхідний розмір вибірки та зазначити, яка має бути авдиторія тесту \t\t\t\t\n",
    "\t\t\t\t\t\n",
    "Тест 1\t\t\t\t\t\n",
    "Наш продукт - мобільний застосунок для медитації та дихальних практик. Раніше після першого відкриття ми одразу показували користувачам екран з пропозицією купили платну підписку за $7.99, що розблоковує повний доступ до застосунку, але в новій версії ми хочемо додати кілька екранів онбордингу, щоб краще донести користувачам цінність продукту та що вони отримають з платною підпискою.\t\t\t\t\t\n",
    "Відомі поточні метрики продукту\t\t\t\t\t\n",
    "Кількість встановлень застосунку за день\t\t\t\t\t                    2000\n",
    "Конверсія у відкриття екрану з пропозицією купити підписку\t\t\t\t\t    35%\n",
    "Конверсія з перегляду екрану з пропозицією купити підписку у першу покупку\t\t14%\n",
    "ARPU\t\t\t\t\t                                                        $0,67\n",
    "\t\t\t\t\t\n",
    "\t\t\t\t\t"
   ]
  },
  {
   "cell_type": "markdown",
   "metadata": {},
   "source": [
    "1. Мета тесту - підвищити конверсію в підписку в новій версії застосунку з декількома екранами онбордінгу.\n",
    "2. Визначаємо гіпотези:\n",
    "    - Н0 - нульова гіпотеза: немає статистично значущої різниці між старою та   новою версіями застосунку.\n",
    "    - Н1 - альтернативна гіпотеза:  різниця між старою та   новою версіями застосунку є статистично значущою.\n",
    "3. Цільова метрика - це конверсія в підписку.\n",
    "4. Допоміжні метрики:\n",
    "    - конверсія з встановлення додатка до перегляду екранів онбордингу\n",
    "    - конверсія з екранів онбордингу в підписку\n",
    "    - конверсія проходження онбордінгу - ми аналізуємо відсоток користувачів, які повністю продивились всі екрани онбордінгу\n",
    "    - відслідковуємо ARPU - чи змінюється ревенью після проходження онбордінгу і підписки\n",
    "    - середній час. який витрачає користувач на підписку - чи прискорює прийняття рішення про підписку проходження онбордінгу.\n",
    "5. За допомогою он-лайн калькулятора https://speero.com/ab-test-calculator було розраховано розмір вибірки, тривалість тесту. Було закладено, що наш рівень конверсії на новій версії додатка підвищиться на 20%:\n",
    "    - історична конверсія в підписку - 4,9%\n",
    "    - бажаний рівень підвищення  (MDE) - на 20%\n",
    "    - довірчий інтервал - 95%\n",
    "    - statistical power - 80%\n",
    "    - кількість вибірок - 2 (контрольна та тестова)\n",
    "    - розмір 1 вибірки - 6940 осіб\n",
    "    - тривалість теста - 7 днів. \n",
    "\n",
    "    "
   ]
  },
  {
   "cell_type": "markdown",
   "metadata": {},
   "source": [
    "Тест 2.\n",
    "Наш продукт - вебсайт з записаними онлайн-курсами, що доступні за підпискою. Раніше на сайті була доступна тільки одна опція: доступ до усіх курсів за $29.99 на місяць. Ми вирішили протестувати альтернативний формат та додати можливість отримати доступ до курсів лише в одному напрямку за $9.99 на місяць.\t\n"
   ]
  },
  {
   "cell_type": "markdown",
   "metadata": {},
   "source": [
    "1. Мета тесту - підвищити показник метрики ARPU завдяки пропозиції придбати не усі курси, а тільки ті, що цікавлять юзера.\n",
    "2. Визначаємо гіпотези:\n",
    "    - Н0 - нульова гіпотеза:  немає статистично значущої різниці між поточним ARPU та  ARPU після нової пропозиції.\n",
    "    - Н1 - альтернативна гіпотеза:  різниця між поточним ARPU та  ARPU після нової пропозиції  є статистично значущою.\n",
    "3. Цільова метрика - це ARPU.\n",
    "4. Допоміжні метрики:\n",
    "    - ARPРU \n",
    "    - retention rate \n",
    "\n",
    "   \n",
    "5. За допомогою он-лайн калькулятора https://speero.com/ab-test-calculator було розраховано розмір вибірки, тривалість тесту. Було закладено, що наш рівень конверсії на новій опції сайту підвищиться на 20%:\n",
    "    - історична конверсія в підписку - 3,7%\n",
    "    - бажаний рівень підвищення (MDE) - на 20%\n",
    "    - довірчий інтервал - 95%\n",
    "    - statistical power - 80%\n",
    "    - кількість вибірок - 2 (контрольна та тестова)\n",
    "    - розмір 1 вибірки - 9190 осіб\n",
    "    - тривалість теста - 7 днів. "
   ]
  },
  {
   "cell_type": "markdown",
   "metadata": {},
   "source": [
    "Завдання 2: Проаналізувати результати A/B тесту\t\n",
    "\n",
    "1.\tВизначити цільову метрику, оцінити її зміну та стат. значущість зміни\t\t\t\t\n",
    "2.\tВизначити допоміжні метрики, оцінити зміни та стат. значущість\t\t\t\t\n",
    "3.\tЗробити висновок про результати A/B тесту та описати рекомендації\t\t\t\t"
   ]
  },
  {
   "cell_type": "markdown",
   "metadata": {},
   "source": [
    "ТЕСТ 1.\n",
    "\n",
    "Наш продукт - мобільний застосунок для медитації та дихальних практик. Раніше після першого відкриття ми одразу показували користувачам екран з пропозицією купили платну підписку за $7.99, що розблоковує повний доступ до застосунку, але в новій версії ми хочемо додати кілька екранів онбордингу, щоб краще донести користувачам цінність продукту та що вони отримають з платною підпискою.\t\t\t\t\t\t\n",
    "Тестова група: після першого відкриття застосунку користувачам пропонують купити підписку за $7.99\t\t\t\t\t\t\n",
    "Контрольна група: після першого відкриття застосунку користувачі проходять онбординг, а потім їм пропонують купити підписку за $7.99\t\t\t\t\t\t\n",
    "Результати тесту\t\t\t\t\t                        Control\t        Treatment\n",
    "Кількість користувачів в тесті\t\t\t\t\t            8712\t        8693\n",
    "Кількість користувачів, які відкрили екран з підпискою\t\t3 180\t        2 096\n",
    "Кількість оформлень підписки\t\t\t\t\t            447\t            452"
   ]
  },
  {
   "cell_type": "markdown",
   "metadata": {},
   "source": [
    "Цільова метрика - це конверсія в підписку.\n",
    "Допоміжна метрика - конверсія з екранів онбордингу в підписку\n",
    "\n",
    "Розрахуємо статистичну значущість цільової метрики. Оскільки ми описуємо кількість тих, хто підписався як 1, а тих, хто не підписався - 0, то в цьому випадку потрібно використати Z-test. "
   ]
  },
  {
   "cell_type": "code",
   "execution_count": 2,
   "metadata": {},
   "outputs": [
    {
     "data": {
      "text/html": [
       "<div>\n",
       "<style scoped>\n",
       "    .dataframe tbody tr th:only-of-type {\n",
       "        vertical-align: middle;\n",
       "    }\n",
       "\n",
       "    .dataframe tbody tr th {\n",
       "        vertical-align: top;\n",
       "    }\n",
       "\n",
       "    .dataframe thead tr th {\n",
       "        text-align: left;\n",
       "    }\n",
       "\n",
       "    .dataframe thead tr:last-of-type th {\n",
       "        text-align: right;\n",
       "    }\n",
       "</style>\n",
       "<table border=\"1\" class=\"dataframe\">\n",
       "  <thead>\n",
       "    <tr>\n",
       "      <th></th>\n",
       "      <th colspan=\"8\" halign=\"left\">conversion</th>\n",
       "    </tr>\n",
       "    <tr>\n",
       "      <th></th>\n",
       "      <th>count</th>\n",
       "      <th>mean</th>\n",
       "      <th>std</th>\n",
       "      <th>min</th>\n",
       "      <th>25%</th>\n",
       "      <th>50%</th>\n",
       "      <th>75%</th>\n",
       "      <th>max</th>\n",
       "    </tr>\n",
       "    <tr>\n",
       "      <th>test_group</th>\n",
       "      <th></th>\n",
       "      <th></th>\n",
       "      <th></th>\n",
       "      <th></th>\n",
       "      <th></th>\n",
       "      <th></th>\n",
       "      <th></th>\n",
       "      <th></th>\n",
       "    </tr>\n",
       "  </thead>\n",
       "  <tbody>\n",
       "    <tr>\n",
       "      <th>a_test</th>\n",
       "      <td>8693.0</td>\n",
       "      <td>0.051996</td>\n",
       "      <td>0.222031</td>\n",
       "      <td>0.0</td>\n",
       "      <td>0.0</td>\n",
       "      <td>0.0</td>\n",
       "      <td>0.0</td>\n",
       "      <td>1.0</td>\n",
       "    </tr>\n",
       "    <tr>\n",
       "      <th>b_contr</th>\n",
       "      <td>8712.0</td>\n",
       "      <td>0.051309</td>\n",
       "      <td>0.220639</td>\n",
       "      <td>0.0</td>\n",
       "      <td>0.0</td>\n",
       "      <td>0.0</td>\n",
       "      <td>0.0</td>\n",
       "      <td>1.0</td>\n",
       "    </tr>\n",
       "  </tbody>\n",
       "</table>\n",
       "</div>"
      ],
      "text/plain": [
       "           conversion                                             \n",
       "                count      mean       std  min  25%  50%  75%  max\n",
       "test_group                                                        \n",
       "a_test         8693.0  0.051996  0.222031  0.0  0.0  0.0  0.0  1.0\n",
       "b_contr        8712.0  0.051309  0.220639  0.0  0.0  0.0  0.0  1.0"
      ]
     },
     "execution_count": 2,
     "metadata": {},
     "output_type": "execute_result"
    }
   ],
   "source": [
    "import pandas as pd\n",
    "from scipy import stats\n",
    "\n",
    "test_data = pd.DataFrame(data={'test_group': ['a_test']*8693 + ['b_contr']*8712, 'conversion': [1]*452 + [0]*(8693-452) + [1]*447 + [0]*(8712-447)})\n",
    "\n",
    "test_data.groupby('test_group').describe()"
   ]
  },
  {
   "cell_type": "code",
   "execution_count": 3,
   "metadata": {},
   "outputs": [
    {
     "name": "stdout",
     "output_type": "stream",
     "text": [
      "Z-статистика: -0.2\n",
      "P-value: 0.58\n",
      "Нульова гіпотеза не може бути відхилина. Статистична різниця не є значущою\n"
     ]
    }
   ],
   "source": [
    "from statsmodels.stats.proportion import proportions_ztest\n",
    "\n",
    "# Кількість тих, хто підписався\n",
    "conv_A = test_data[test_data['test_group'] == 'a_test']['conversion'].sum()  \n",
    "conv_B = test_data[test_data['test_group'] == 'b_contr']['conversion'].sum() \n",
    "\n",
    "# Разом користувачів в групах\n",
    "n_A = test_data[test_data['test_group'] == 'a_test']['conversion'].count() \n",
    "n_B = test_data[test_data['test_group'] == 'b_contr']['conversion'].count() \n",
    "\n",
    "# Z-тест\n",
    "stat, pvalue = proportions_ztest([conv_B, conv_A], [n_B, n_A], alternative='larger')\n",
    "\n",
    "print(f\"Z-статистика: {round(stat, 2)}\")\n",
    "print(f\"P-value: {round(pvalue, 2)}\")\n",
    "\n",
    "alpha = 0.05\n",
    "\n",
    "if pvalue < alpha:\n",
    "    print('Нульову гіпотезу відхилено. Різниця є статистично значущою')\n",
    "else:\n",
    "    print('Нульова гіпотеза не може бути відхилина. Статистична різниця не є значущою')"
   ]
  },
  {
   "cell_type": "markdown",
   "metadata": {},
   "source": [
    "Також ми маємо дані про кількість користувачів, які дійшли до екрана з підпискою - це наша допоміжна метрика. Ми можемо протестувати, чи є статистично значуща різниця між нашими групами. Отже:"
   ]
  },
  {
   "cell_type": "code",
   "execution_count": 5,
   "metadata": {},
   "outputs": [
    {
     "name": "stdout",
     "output_type": "stream",
     "text": [
      "Z-статистика: -7.1\n",
      "P-value: 1.0\n",
      "Нульова гіпотеза не може бути відхилина. Статистична різниця не є значущою\n"
     ]
    }
   ],
   "source": [
    "test_data_op = pd.DataFrame(data={'test_group': ['a_test']*2096 + ['b_contr']*3180, 'conversion': [1]*452 + [0]*(2096-452) + [1]*447 + [0]*(3180-447)})\n",
    "\n",
    "test_data_op.groupby('test_group').describe()\n",
    "\n",
    "\n",
    "# Кількість тих, хто відкрив екран з підпискою\n",
    "conv_A = test_data_op[test_data_op['test_group'] == 'a_test']['conversion'].sum()  \n",
    "conv_B = test_data_op[test_data_op['test_group'] == 'b_contr']['conversion'].sum() \n",
    "\n",
    "# Разом користувачів в групах\n",
    "n_A = test_data_op[test_data_op['test_group'] == 'a_test']['conversion'].count() \n",
    "n_B = test_data_op[test_data_op['test_group'] == 'b_contr']['conversion'].count() \n",
    "\n",
    "# Z-тест\n",
    "stat, pvalue = proportions_ztest([conv_B, conv_A], [n_B, n_A], alternative='larger')\n",
    "\n",
    "print(f\"Z-статистика: {round(stat, 2)}\")\n",
    "print(f\"P-value: {round(pvalue, 2)}\")\n",
    "\n",
    "alpha = 0.05\n",
    "\n",
    "if pvalue < alpha:\n",
    "    print('Нульову гіпотезу відхилено. Різниця є статистично значущою')\n",
    "else:\n",
    "    print('Нульова гіпотеза не може бути відхилина. Статистична різниця не є значущою')\n"
   ]
  },
  {
   "cell_type": "markdown",
   "metadata": {},
   "source": [
    "Рекомендації:\n",
    "1. Оскільки наш тест показав, що немає статистично значущої різниці між основною та новою версією додатка, то нові зміни не варто впроваджувати. \n",
    "2. Замість екрану онбордінгу можна показати, наприклад, що 7,99$ - це вже ціна зі знижкою у 50% і протестувати цей екран.\n",
    "3. Надати користувачу пробний період для ознайомлення з додатком, потім пропонувати підписку і подивитися, чи зміниться конверсія\n"
   ]
  },
  {
   "cell_type": "markdown",
   "metadata": {},
   "source": [
    "ТЕСТ 2.\n",
    "\n",
    "Наш продукт - вебсайт з записаними онлайн-курсами, що доступні за підпискою. Раніше на сайті була доступна тільки одна опція: доступ до усіх курсів за $29.99 на місяць. Ми вирішили протестувати альтернативний формат та додати можливість отримати доступ до курсів лише в одному напрямку за $9.99 на місяць.\t\t\t\t\t\t\n",
    "Тестова група: після реєстрації користувачам пропонується придбати доступ до усіх курсів на платформі за $29.99\t\t\t\t\t\t\n",
    "Контрольна група: після реєстрації користувачам пропонується придбати доступ до усіх курсів на платформі за $29.99 або доступ до курсів одного напрямку за $9.99\t\t\t\t\t\t\n",
    "Результати тесту\t\t\t\t\t            Treatment           Control\t\n",
    "Кількість користувачів\t\t\t\t\t        13623\t            14012\n",
    "Кількість оформлених підписок за $29.99\t\t\t411\t                420\n",
    "Кількість оформлених підписок за $9.99\t\t\t\t\t\t        232\n",
    "ARPPU користувачів з підпискою за $29.99\t\t$64,48\t            $62,68\n",
    "ARPPU користувачів з підпискою за $9.99\t\t\t\t\t\t        $27,27"
   ]
  },
  {
   "cell_type": "markdown",
   "metadata": {},
   "source": [
    "Цільова метрика - це  ARPU.\n",
    "Допоміжні метрики:\n",
    "\n",
    "   - ARPPU\n",
    "   - retention rate"
   ]
  },
  {
   "cell_type": "markdown",
   "metadata": {},
   "source": [
    "Оскільки тільки користувачі в контрольній групі бачили обидва варіанти підписок , і у нас є дані про кількість підписавшихся на різний варіант, то ми можемо порівняти, яка пропозиція була кращою і також дізнатися, чи є статистична значуща різниця між двома пропозиціями в межах цієї групи. \n",
    "Н0 - нульова гіпотеза - немає статистично значущої різниці між двома варіантами підписки\n",
    "Н1 - альтернативна гіпотеза - різниця між двома варіантами підписки є статистично значущою "
   ]
  },
  {
   "cell_type": "code",
   "execution_count": 6,
   "metadata": {},
   "outputs": [
    {
     "name": "stdout",
     "output_type": "stream",
     "text": [
      "Z-статистика: 7.4498211714346025\n",
      "P-value: 9.346683697398847e-14\n",
      "Нульову гіпотезу відхилено. Різниця є статистично значущою\n"
     ]
    }
   ],
   "source": [
    "conv_option_1 = 420  # Кількість користувачів , які обрали варіант з підпискою за 29,99 на усі курси.\n",
    "conv_option_2 = 232  # Кількість користувачів , які обрали варіант з підпискою за 9,99 на певний напрямок курсів.\n",
    "\n",
    "n_total = 14012  # Загальна кількість користувачів у групі \n",
    "\n",
    "# Кількість користувачів , які не вибрали кожний варіант\n",
    "n_option_1 = n_total\n",
    "n_option_2 = n_total\n",
    "\n",
    "# Z-тест для двох пропорцій\n",
    "stat, p_value = proportions_ztest([conv_option_1, conv_option_2], [n_option_1, n_option_2], alternative='two-sided')\n",
    "\n",
    "\n",
    "print(f\"Z-статистика: {stat}\")\n",
    "print(f\"P-value: {p_value}\")\n",
    "alpha = 0.05\n",
    "\n",
    "if p_value < alpha:\n",
    "    print('Нульову гіпотезу відхилено. Різниця є статистично значущою')\n",
    "else:\n",
    "    print('Нульова гіпотеза не може бути відхилина. Статистична різниця не є значущою')"
   ]
  },
  {
   "cell_type": "markdown",
   "metadata": {},
   "source": [
    "Також ми маємо можливість провести тест між двома групами та виявити, чи є різнця в конверсії між ними."
   ]
  },
  {
   "cell_type": "code",
   "execution_count": 30,
   "metadata": {},
   "outputs": [
    {
     "name": "stdout",
     "output_type": "stream",
     "text": [
      "Z-статистика: 7.07\n",
      "P-value: 0.0\n",
      "Нульову гіпотезу відхилено. Різниця є статистично значущою\n"
     ]
    }
   ],
   "source": [
    "#test_data = pd.DataFrame(data={'test_group': ['a_test']*13623 + ['b_contr']*14012, 'conversion': [1]*411 + [0]*(13623-411) + [1]*652 + [0]*(14012-652)})\n",
    "\n",
    "test_data = pd.DataFrame(data={'test_group': ['a_test']*14012 + ['b_contr']*13623, 'conversion': [1]*652 + [0]*(14012-652) + [1]*411 + [0]*(13623-411)})\n",
    "\n",
    "test_data.groupby('test_group').describe()\n",
    "\n",
    "\n",
    "# Кількість тих, хто підписався\n",
    "conv_A = test_data[test_data['test_group'] == 'a_test']['conversion'].sum()  \n",
    "conv_B = test_data[test_data['test_group'] == 'b_contr']['conversion'].sum() \n",
    "\n",
    "# Разом користувачів в групах\n",
    "n_A = test_data[test_data['test_group'] == 'a_test']['conversion'].count() \n",
    "n_B = test_data[test_data['test_group'] == 'b_contr']['conversion'].count() \n",
    "\n",
    "# Z-тест\n",
    "stat, pvalue = proportions_ztest([conv_A, conv_B], [n_A, n_B], alternative='larger')\n",
    "\n",
    "print(f\"Z-статистика: {round(stat, 2)}\")\n",
    "print(f\"P-value: {round(pvalue, 2)}\")\n",
    "\n",
    "alpha = 0.05\n",
    "\n",
    "if pvalue < alpha:\n",
    "    print('Нульову гіпотезу відхилено. Різниця є статистично значущою')\n",
    "else:\n",
    "    print('Нульова гіпотеза не може бути відхилина. Статистична різниця не є значущою')"
   ]
  },
  {
   "cell_type": "code",
   "execution_count": 25,
   "metadata": {},
   "outputs": [
    {
     "name": "stdout",
     "output_type": "stream",
     "text": [
      "ARPU in contr group: 1.95\n"
     ]
    }
   ],
   "source": [
    "Users_contr_group = 13623\n",
    "Paid_users = 411\n",
    "ARPPU = 64.48\n",
    "ARPU_contr = (ARPPU*Paid_users)/Users_contr_group\n",
    "print(f'ARPU in contr group: {round(ARPU_contr, 2)}')"
   ]
  },
  {
   "cell_type": "code",
   "execution_count": 22,
   "metadata": {},
   "outputs": [
    {
     "name": "stdout",
     "output_type": "stream",
     "text": [
      "ARPU in test group: 2.33\n"
     ]
    }
   ],
   "source": [
    "Users_test_group = 14012\n",
    "Paid_users1 = 420\n",
    "Paid_users2 = 232\n",
    "ARPPU1 = 62.68\n",
    "ARPPU2 = 27.27\n",
    "ARPU_test = (ARPPU1*Paid_users1 + ARPPU2*Paid_users2)/Users_test_group\n",
    "print(f'ARPU in test group: {round(ARPU_test, 2)}')"
   ]
  },
  {
   "cell_type": "code",
   "execution_count": 23,
   "metadata": {},
   "outputs": [
    {
     "name": "stdout",
     "output_type": "stream",
     "text": [
      "ARPU in control group new subscription: 0.45\n"
     ]
    }
   ],
   "source": [
    "Users_test_group = 14012\n",
    "Paid_users = 232\n",
    "ARPPU_new_subscriprion = 27.27\n",
    "ARPU_test_new_subscriprion = (ARPPU_new_subscriprion*Paid_users)/Users_test_group\n",
    "print(f'ARPU in control group new subscription: {round(ARPU_test_new_subscriprion, 2)}')"
   ]
  },
  {
   "cell_type": "markdown",
   "metadata": {},
   "source": [
    "Ми бачимо, що ARPU у тестовій групі кращий, ніж у контрольній. А ARPU у контрольній групі серед користувачів, які обрали варіант підписки за 9,99 дуже низький - 0,45.\n",
    "\n",
    "І цей тест показав, що  різниця між тими, хто бачив один варіант і тими, хто бачив два варіанта підписки є дуже значною.\n",
    "Рекомендації:\n",
    "1. Є сенс впроваджувати зміни з пропозицією крім покупки всіх курсів за 29,99 на місяць також покупки курсів за 9,99 одного напрямку. Це показали два тести та розрахунок ARPU. \n",
    "2. Натомість, можна спробувати залучити більше користувачів, показуючи екран з пропозицією , що вартість 29,99 - це зі знижкою, наприклад 30-40% та протестувати цю зміну.\n",
    "\n"
   ]
  },
  {
   "cell_type": "code",
   "execution_count": null,
   "metadata": {},
   "outputs": [],
   "source": []
  }
 ],
 "metadata": {
  "kernelspec": {
   "display_name": "Python 3",
   "language": "python",
   "name": "python3"
  },
  "language_info": {
   "codemirror_mode": {
    "name": "ipython",
    "version": 3
   },
   "file_extension": ".py",
   "mimetype": "text/x-python",
   "name": "python",
   "nbconvert_exporter": "python",
   "pygments_lexer": "ipython3",
   "version": "3.12.3"
  }
 },
 "nbformat": 4,
 "nbformat_minor": 2
}
