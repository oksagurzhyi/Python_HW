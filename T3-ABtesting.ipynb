{
 "cells": [
  {
   "cell_type": "code",
   "execution_count": 1,
   "metadata": {},
   "outputs": [],
   "source": [
    "import pandas as pd"
   ]
  },
  {
   "cell_type": "code",
   "execution_count": 4,
   "metadata": {},
   "outputs": [
    {
     "data": {
      "text/html": [
       "<div>\n",
       "<style scoped>\n",
       "    .dataframe tbody tr th:only-of-type {\n",
       "        vertical-align: middle;\n",
       "    }\n",
       "\n",
       "    .dataframe tbody tr th {\n",
       "        vertical-align: top;\n",
       "    }\n",
       "\n",
       "    .dataframe thead tr th {\n",
       "        text-align: left;\n",
       "    }\n",
       "\n",
       "    .dataframe thead tr:last-of-type th {\n",
       "        text-align: right;\n",
       "    }\n",
       "</style>\n",
       "<table border=\"1\" class=\"dataframe\">\n",
       "  <thead>\n",
       "    <tr>\n",
       "      <th></th>\n",
       "      <th colspan=\"8\" halign=\"left\">conversion</th>\n",
       "    </tr>\n",
       "    <tr>\n",
       "      <th></th>\n",
       "      <th>count</th>\n",
       "      <th>mean</th>\n",
       "      <th>std</th>\n",
       "      <th>min</th>\n",
       "      <th>25%</th>\n",
       "      <th>50%</th>\n",
       "      <th>75%</th>\n",
       "      <th>max</th>\n",
       "    </tr>\n",
       "    <tr>\n",
       "      <th>test_group</th>\n",
       "      <th></th>\n",
       "      <th></th>\n",
       "      <th></th>\n",
       "      <th></th>\n",
       "      <th></th>\n",
       "      <th></th>\n",
       "      <th></th>\n",
       "      <th></th>\n",
       "    </tr>\n",
       "  </thead>\n",
       "  <tbody>\n",
       "    <tr>\n",
       "      <th>a</th>\n",
       "      <td>7015.0</td>\n",
       "      <td>0.019815</td>\n",
       "      <td>0.139373</td>\n",
       "      <td>0.0</td>\n",
       "      <td>0.0</td>\n",
       "      <td>0.0</td>\n",
       "      <td>0.0</td>\n",
       "      <td>1.0</td>\n",
       "    </tr>\n",
       "    <tr>\n",
       "      <th>b</th>\n",
       "      <td>6987.0</td>\n",
       "      <td>0.044941</td>\n",
       "      <td>0.207189</td>\n",
       "      <td>0.0</td>\n",
       "      <td>0.0</td>\n",
       "      <td>0.0</td>\n",
       "      <td>0.0</td>\n",
       "      <td>1.0</td>\n",
       "    </tr>\n",
       "  </tbody>\n",
       "</table>\n",
       "</div>"
      ],
      "text/plain": [
       "           conversion                                             \n",
       "                count      mean       std  min  25%  50%  75%  max\n",
       "test_group                                                        \n",
       "a              7015.0  0.019815  0.139373  0.0  0.0  0.0  0.0  1.0\n",
       "b              6987.0  0.044941  0.207189  0.0  0.0  0.0  0.0  1.0"
      ]
     },
     "execution_count": 4,
     "metadata": {},
     "output_type": "execute_result"
    }
   ],
   "source": [
    "test_data = pd.DataFrame(data={'test_group': ['a']*7015 + ['b']*6987, 'conversion': [1]*139 + [0]*(7015-139) + [1]*314 + [0]*(6987-314)})\n",
    "\n",
    "test_data.groupby('test_group').describe()"
   ]
  },
  {
   "cell_type": "code",
   "execution_count": 5,
   "metadata": {},
   "outputs": [],
   "source": [
    "from scipy import stats"
   ]
  },
  {
   "cell_type": "code",
   "execution_count": null,
   "metadata": {},
   "outputs": [],
   "source": [
    "# Тест Стьюдента - для двух независимых выборок. "
   ]
  },
  {
   "cell_type": "code",
   "execution_count": 9,
   "metadata": {},
   "outputs": [
    {
     "name": "stdout",
     "output_type": "stream",
     "text": [
      "t-statistic: -8.422, p-value: 0.0\n",
      "The difference is statisticaly significant, Null Hypothesis is rejected\n"
     ]
    }
   ],
   "source": [
    "alpha = 0.05\n",
    "\n",
    "statistic, pvalue = stats.ttest_ind(test_data[test_data['test_group']== 'a']['conversion'],\n",
    "                                    test_data[test_data['test_group'] == 'b']['conversion'],\n",
    "                                    alternative='less')\n",
    "print(f't-statistic: {round(statistic, 3)}, p-value: {round(pvalue, 3)}')\n",
    "if pvalue < alpha:\n",
    "    print('The difference is statisticaly significant, Null Hypothesis is rejected')\n",
    "else:\n",
    "    print('The difference is insignificant, Null Hypothesis cannot rejected')"
   ]
  },
  {
   "cell_type": "code",
   "execution_count": null,
   "metadata": {},
   "outputs": [],
   "source": [
    "# Chi-squared - для работы с категориальными данными. Например предпочитают клиенты в разных возрастных группах (молодые, средний возраст, пожилые).\n",
    "# Для каждой возрастной группы собраны данные о том, сколько человек выбрали каждый бренд.\n",
    "# Проверить, зависит ли выбор бренда от возрастной группы или предпочтения одинаковы для всех возрастов.\n",
    "# Нульова гіпотеза: змінна є незалежною від категорії, під яку вона підпадає."
   ]
  },
  {
   "cell_type": "code",
   "execution_count": 10,
   "metadata": {},
   "outputs": [
    {
     "data": {
      "text/html": [
       "<div>\n",
       "<style scoped>\n",
       "    .dataframe tbody tr th:only-of-type {\n",
       "        vertical-align: middle;\n",
       "    }\n",
       "\n",
       "    .dataframe tbody tr th {\n",
       "        vertical-align: top;\n",
       "    }\n",
       "\n",
       "    .dataframe thead th {\n",
       "        text-align: right;\n",
       "    }\n",
       "</style>\n",
       "<table border=\"1\" class=\"dataframe\">\n",
       "  <thead>\n",
       "    <tr style=\"text-align: right;\">\n",
       "      <th>conversion</th>\n",
       "      <th>0</th>\n",
       "      <th>1</th>\n",
       "    </tr>\n",
       "    <tr>\n",
       "      <th>test_group</th>\n",
       "      <th></th>\n",
       "      <th></th>\n",
       "    </tr>\n",
       "  </thead>\n",
       "  <tbody>\n",
       "    <tr>\n",
       "      <th>a</th>\n",
       "      <td>6876</td>\n",
       "      <td>139</td>\n",
       "    </tr>\n",
       "    <tr>\n",
       "      <th>b</th>\n",
       "      <td>6673</td>\n",
       "      <td>314</td>\n",
       "    </tr>\n",
       "  </tbody>\n",
       "</table>\n",
       "</div>"
      ],
      "text/plain": [
       "conversion     0    1\n",
       "test_group           \n",
       "a           6876  139\n",
       "b           6673  314"
      ]
     },
     "execution_count": 10,
     "metadata": {},
     "output_type": "execute_result"
    }
   ],
   "source": [
    "observed = pd.crosstab(test_data['test_group'] , test_data['conversion'] )\n",
    "observed"
   ]
  },
  {
   "cell_type": "code",
   "execution_count": 18,
   "metadata": {},
   "outputs": [
    {
     "name": "stdout",
     "output_type": "stream",
     "text": [
      "statistic: 69.79, pvalue: 0.0, dof: 1, expected_values: [[6788.04706471  226.95293529]\n",
      " [6760.95293529  226.04706471]]\n",
      "The difference is statistically significant, Null Hypothesis is rejected\n"
     ]
    }
   ],
   "source": [
    "# Каждая ячейка в массиве expected_values отвечает:\n",
    "#\"Вот сколько мы ожидаем здесь, если между категориями нет никакой связи.\"\n",
    "# Это нужно, чтобы сравнить с реальными данными и увидеть, есть ли отклонения.\n",
    "\n",
    "\n",
    "alpha = 0.05\n",
    "statistic, pvalue, dof, expected_values = stats.chi2_contingency(observed)\n",
    "\n",
    "print(f'statistic: {round(statistic, 2)}, pvalue: {round(pvalue, 2)}, dof: {round(dof, 2)}, expected_values: {expected_values}')\n",
    "\n",
    "if pvalue < alpha:\n",
    "    print('The difference is statistically significant, Null Hypothesis is rejected')\n",
    "else:\n",
    "    print('The difference is insignificant, Null Hypothesis cannot rejected')"
   ]
  },
  {
   "cell_type": "code",
   "execution_count": null,
   "metadata": {},
   "outputs": [],
   "source": [
    "# Тести з перестановками в SciPy"
   ]
  },
  {
   "cell_type": "code",
   "execution_count": 23,
   "metadata": {},
   "outputs": [
    {
     "name": "stdout",
     "output_type": "stream",
     "text": [
      "statistic: -8.42, p-value: 0.02\n",
      "The difference is statistically significant, Null Hypothesis is rejected\n"
     ]
    }
   ],
   "source": [
    "def statictic(x,y):\n",
    "    return stats.ttest_ind(x,y)._statistic_np\n",
    "\n",
    "alpha = 0.05\n",
    "\n",
    "x = test_data[test_data['test_group'] == 'a']['conversion']\n",
    "y = test_data[test_data['test_group'] == 'b']['conversion']\n",
    "\n",
    "results = stats.permutation_test((x,y), statictic, n_resamples=100)\n",
    "\n",
    "print(f'statistic: {round(results.statistic, 2)}, p-value: {round(results.pvalue, 2)}')\n",
    "\n",
    "\n",
    "if results.pvalue < alpha:\n",
    "    print('The difference is statistically significant, Null Hypothesis is rejected')\n",
    "else:\n",
    "    print('The difference is insignificant, Null Hypothesis cannot rejected')\n",
    "\n",
    "\n"
   ]
  },
  {
   "cell_type": "code",
   "execution_count": null,
   "metadata": {},
   "outputs": [],
   "source": []
  },
  {
   "cell_type": "code",
   "execution_count": null,
   "metadata": {},
   "outputs": [],
   "source": []
  },
  {
   "cell_type": "code",
   "execution_count": null,
   "metadata": {},
   "outputs": [],
   "source": []
  },
  {
   "cell_type": "code",
   "execution_count": 21,
   "metadata": {},
   "outputs": [
    {
     "data": {
      "text/plain": [
       "7015     1\n",
       "7016     1\n",
       "7017     1\n",
       "7018     1\n",
       "7019     1\n",
       "        ..\n",
       "13997    0\n",
       "13998    0\n",
       "13999    0\n",
       "14000    0\n",
       "14001    0\n",
       "Name: conversion, Length: 6987, dtype: int64"
      ]
     },
     "execution_count": 21,
     "metadata": {},
     "output_type": "execute_result"
    }
   ],
   "source": [
    "\n",
    "\n",
    "\n"
   ]
  },
  {
   "cell_type": "code",
   "execution_count": null,
   "metadata": {},
   "outputs": [],
   "source": []
  },
  {
   "cell_type": "code",
   "execution_count": null,
   "metadata": {},
   "outputs": [],
   "source": []
  }
 ],
 "metadata": {
  "kernelspec": {
   "display_name": "Python 3",
   "language": "python",
   "name": "python3"
  },
  "language_info": {
   "codemirror_mode": {
    "name": "ipython",
    "version": 3
   },
   "file_extension": ".py",
   "mimetype": "text/x-python",
   "name": "python",
   "nbconvert_exporter": "python",
   "pygments_lexer": "ipython3",
   "version": "3.12.3"
  }
 },
 "nbformat": 4,
 "nbformat_minor": 2
}
